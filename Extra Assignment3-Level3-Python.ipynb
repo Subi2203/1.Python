{
 "cells": [
  {
   "cell_type": "code",
   "execution_count": 3,
   "metadata": {},
   "outputs": [
    {
     "name": "stdout",
     "output_type": "stream",
     "text": [
      "Enter value10\n",
      "Value:  10\n",
      "Correct\n"
     ]
    }
   ],
   "source": [
    "i = int(input(\"Enter value\"))\n",
    "if(i==10):\n",
    "    print(\"Value: \",i)\n",
    "    print(\"Correct\")"
   ]
  },
  {
   "cell_type": "code",
   "execution_count": 7,
   "metadata": {},
   "outputs": [
    {
     "name": "stdout",
     "output_type": "stream",
     "text": [
      "Enter the password: HOPE@123\n",
      "Your password is correct\n"
     ]
    }
   ],
   "source": [
    "pwd = input(\"Enter the password: \")\n",
    "if(pwd==\"HOPE@123\"):\n",
    "    print(\"Your password is correct\")\n",
    "else:\n",
    "    print(\"Your password is not correct\")"
   ]
  },
  {
   "cell_type": "code",
   "execution_count": 11,
   "metadata": {},
   "outputs": [
    {
     "name": "stdout",
     "output_type": "stream",
     "text": [
      "age:40\n",
      "Citizen\n"
     ]
    }
   ],
   "source": [
    "age = int(input(\"age:\"))\n",
    "if(age<=18):\n",
    "    print(\"Children\")\n",
    "elif(age<=35):\n",
    "    print(\"Adult\")\n",
    "elif(age<=55):\n",
    "    print(\"Citizen\")\n",
    "else:\n",
    "    print(\"Senior Citizen\")"
   ]
  },
  {
   "cell_type": "code",
   "execution_count": 14,
   "metadata": {},
   "outputs": [
    {
     "name": "stdout",
     "output_type": "stream",
     "text": [
      "Enter any number:-2\n",
      "No. is negative\n"
     ]
    }
   ],
   "source": [
    "num = int(input(\"Enter any number:\"))\n",
    "if(num>=0):\n",
    "    print(\"No. is positive\")\n",
    "else:\n",
    "    print(\"No. is negative\")"
   ]
  },
  {
   "cell_type": "code",
   "execution_count": 16,
   "metadata": {},
   "outputs": [
    {
     "name": "stdout",
     "output_type": "stream",
     "text": [
      "Enter a number to check:34\n",
      "No. is not divisible by 5\n"
     ]
    }
   ],
   "source": [
    "num = int(input(\"Enter a number to check:\"))\n",
    "if(num%5==0):\n",
    "    print(\"No. is divisible by 5\")\n",
    "else:\n",
    "    print(\"No. is not divisible by 5\")"
   ]
  },
  {
   "cell_type": "code",
   "execution_count": null,
   "metadata": {},
   "outputs": [],
   "source": []
  }
 ],
 "metadata": {
  "kernelspec": {
   "display_name": "Python 3",
   "language": "python",
   "name": "python3"
  },
  "language_info": {
   "codemirror_mode": {
    "name": "ipython",
    "version": 3
   },
   "file_extension": ".py",
   "mimetype": "text/x-python",
   "name": "python",
   "nbconvert_exporter": "python",
   "pygments_lexer": "ipython3",
   "version": "3.7.4"
  }
 },
 "nbformat": 4,
 "nbformat_minor": 2
}
