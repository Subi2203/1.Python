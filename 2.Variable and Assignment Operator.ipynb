{
 "cells": [
  {
   "cell_type": "code",
   "execution_count": 1,
   "metadata": {},
   "outputs": [
    {
     "name": "stdout",
     "output_type": "stream",
     "text": [
      "Addition of two numbers\n",
      "Number1 is: 10\n",
      "Number2 is: 30\n",
      "Total is: 40\n"
     ]
    }
   ],
   "source": [
    "print(\"Addition of two numbers\")\n",
    "num1 = 10\n",
    "num2 = 30\n",
    "print(\"Number1 is:\",num1)\n",
    "print(\"Number2 is:\",num2)\n",
    "add = num1 + num2\n",
    "print(\"Total is:\",add)"
   ]
  },
  {
   "cell_type": "code",
   "execution_count": 3,
   "metadata": {},
   "outputs": [
    {
     "name": "stdout",
     "output_type": "stream",
     "text": [
      "Addition of two numbers\n",
      "Enter first number:14\n",
      "Enter second number:45\n",
      "Number1 is: 14\n",
      "Number2 is: 45\n",
      "Total is: 59\n"
     ]
    }
   ],
   "source": [
    "print(\"Addition of two numbers\")\n",
    "num1 = int(input(\"Enter first number:\"))\n",
    "num2 = int(input(\"Enter second number:\"))\n",
    "print(\"Number1 is:\",num1)\n",
    "print(\"Number2 is:\",num2)\n",
    "add = num1 + num2\n",
    "print(\"Total is:\",add)"
   ]
  },
  {
   "cell_type": "code",
   "execution_count": null,
   "metadata": {},
   "outputs": [],
   "source": []
  }
 ],
 "metadata": {
  "kernelspec": {
   "display_name": "Python 3",
   "language": "python",
   "name": "python3"
  },
  "language_info": {
   "codemirror_mode": {
    "name": "ipython",
    "version": 3
   },
   "file_extension": ".py",
   "mimetype": "text/x-python",
   "name": "python",
   "nbconvert_exporter": "python",
   "pygments_lexer": "ipython3",
   "version": "3.7.4"
  }
 },
 "nbformat": 4,
 "nbformat_minor": 2
}
